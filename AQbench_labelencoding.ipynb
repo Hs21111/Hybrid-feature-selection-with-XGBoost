{
 "cells": [
  {
   "cell_type": "code",
   "execution_count": null,
   "id": "import-and-data-load",
   "metadata": {},
   "outputs": [],
   "source": [
    "import pandas as pd\n",
    "import numpy as np\n",
    "from sklearn.preprocessing import LabelEncoder\n",
    "\n",
    "# Load dataset\n",
    "df = pd.read_csv('data/AQbench_dataset.csv')\n",
    "\n",
    "df.head()\n"
   ]
  },
  {
   "cell_type": "code",
   "execution_count": null,
   "id": "label-encoding",
   "metadata": {},
   "outputs": [],
   "source": [
    "# Identify object (string) columns\n",
    "str_columns = df.select_dtypes(include=['object']).columns.tolist()\n",
    "# Exclude the dataset column (if you want)\n",
    "str_columns = [col for col in str_columns if col != 'dataset']\n",
    "label_encoders = {}\n",
    "for col in str_columns:\n",
    "    le = LabelEncoder()\n",
    "    df[col] = le.fit_transform(df[col].astype(str).fillna('NaN'))\n",
    "    label_encoders[col] = le\n",
    "df.head()\n"
   ]
  },
  {
   "cell_type": "code",
   "execution_count": null,
   "id": "cyclical-encoding",
   "metadata": {},
   "outputs": [],
   "source": [
    "# Sine-cosine encoding for longitude\n",
    "def sine_cosine_encode(values, period=None):\n",
    "    values_array = np.array(values)\n",
    "    if period is None:\n",
    "        period = values_array.max()\n",
    "    sin_values = np.sin(2 * np.pi * values_array / period)\n",
    "    cos_values = np.cos(2 * np.pi * values_array / period)\n",
    "    return sin_values, cos_values\n",
    "\n",
    "df['lonx'], df['lony'] = sine_cosine_encode(df['lon'], period=360)\n",
    "df = df.drop('lon', axis=1)\n",
    "df.head()\n"
   ]
  },
  {
   "cell_type": "code",
   "execution_count": null,
   "id": "split-dfs",
   "metadata": {},
   "outputs": [],
   "source": [
    "# Load variables descriptor\n",
    "var_df = pd.read_csv('data/AQbench_variables.csv')\n",
    "# Decide input and target columns\n",
    "input_cols = var_df.loc[(var_df['input_target'] == 'input') & (var_df['column_name'] != 'lon'), 'column_name'].tolist()\n",
    "# Replace 'lon' in input_cols with 'lonx' and 'lony'\n",
    "input_cols = ['lonx' if col == 'lonx' else 'lony' if col == 'lony' else col for col in input_cols]
",
    "if 'lon' in input_cols:\n",
    "    input_cols.remove('lon')\n",
    "    input_cols += ['lonx', 'lony']\n",
    "target_cols = var_df.loc[var_df['input_target'] == 'target', 'column_name'].tolist()\n",
    "\n",
    "# Select per split\n",
    "x_train = df[df['dataset'] == 'train'][input_cols] 
",
    "y_train = df[df['dataset'] == 'train'][target_cols]
",
    "x_test = df[df['dataset'] == 'test'][input_cols] 
",
    "y_test = df[df['dataset'] == 'test'][target_cols]
",
    "x_val = df[df['dataset'] == 'val'][input_cols] 
",
    "y_val = df[df['dataset'] == 'val'][target_cols]
",
    "# Drop dataset column from original df
",
    "df = df.drop('dataset', axis=1)
",
    "# Display sample shapes\n",
    "x_train.shape, y_train.shape, x_test.shape, y_test.shape, x_val.shape, y_val.shape\n"
   ]
  }
 ],
 "metadata": {
  "kernelspec": {
   "display_name": "Python 3",
   "language": "python",
   "name": "python3"
  },
  "language_info": {
   "name": "python",
   "version": "3.8",
   "mimetype": "text/x-python",
   "codemirror_mode": {
    "name": "ipython",
    "version": 3
   },
   "pygments_lexer": "ipython3",
   "nbconvert_exporter": "python",
   "file_extension": ".py"
  }
 },
 "nbformat": 4,
 "nbformat_minor": 2
}