{
 "cells": [
  {
   "cell_type": "code",
   "execution_count": null,
   "id": "import-packages",
   "metadata": {},
   "outputs": [],
   "source": [
    "import pandas as pd\n",
    "import numpy as np\n",
    "from sklearn.preprocessing import LabelEncoder\n",
    "from xgboost import XGBRegressor\n",
    "from sklearn.metrics import mean_squared_error\n",
    "import os\n",
    "import tensorflow as tf\n",
    "\n",
    "# Set GPU environment variable for XGBoost\n",
    "os.environ['XGB_USE_CPP_API'] = '0'\n",
    "os.environ['CUDA_VISIBLE_DEVICES'] = '0'  # Use first GPU device\n",
    "\n",
    "def rrmse(y_true, y_pred):\n",
    "    rmse = np.sqrt(mean_squared_error(y_true, y_pred))\n",
    "    mean_y = np.mean(y_true)\n",
    "    return rmse / mean_y\n",
    "\n",
    "def arrmse(y_true, y_pred):\n",
    "    n_targets = y_true.shape[1]\n",
    "    rrmse_scores = []\n",
    "    for i in range(n_targets):\n",
    "        rrmse_scores.append(rrmse(y_true[:, i], y_pred[:, i]))\n",
    "    return np.mean(rrmse_scores)\n"
   ]
  },
  {
   "cell_type": "code",
   "execution_count": null,
   "id": "train-xgboost-multi-target",
   "metadata": {},
   "outputs": [],
   "source": [
    "# Train an XGBoost Regressor on all targets with GPU acceleration\n",
    "def train_xgboost_multi_target_gpu(x_train, y_train, x_val, y_val):\n",
    "    models = {}\n",
    "    predictions_val = np.zeros(y_val.shape)\n",
    "    predictions_test = np.zeros_like(predictions_val)  # Placeholder\n",
    "    for i, target in enumerate(y_train.columns):\n",
    "        print(f'Training {target}...')\n",
    "        model = XGBRegressor(tree_method='gpu_hist', predictor='gpu_predictor', n_estimators=100, verbosity=1)\n",
    "        model.fit(x_train, y_train[target],\n",
    "                  eval_set=[(x_val, y_val[target])],\n",
    "                  early_stopping_rounds=10,\n",
    "                  verbose=False)\n",
    "        models[target] = model\n",
    "        predictions_val[:, i] = model.predict(x_val)\n",
    "    # Calculate average rrmse on val set\n",
    "    average_rrmse = arrmse(y_val.values, predictions_val)\n",
    "    print(f'Average RRMSE on validation set: {average_rrmse}')\n",
    "    return models, predictions_val\n"
   ]
  }
 ],
 "metadata": {
  "kernelspec": {
   "display_name": "Python 3",
   "language": "python",
   "name": "python3"
  },
  "language_info": {
   "name": "python",
   "version": "3.12",
   "mimetype": "text/x-python",
   "codemirror_mode": {
    "name": "ipython",
    "version": 3
   },
   "pygments_lexer": "ipython3",
   "nbconvert_exporter": "python",
   "file_extension": ".py"
  }
 },
 "nbformat": 4,
 "nbformat_minor": 5
}