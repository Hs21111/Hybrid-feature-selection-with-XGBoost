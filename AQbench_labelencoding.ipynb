{
 "cells": [
  {
   "cell_type": "code",
   "source": [
    "import pandas as pd\n",
    "import numpy as np\n",
    "from sklearn.preprocessing import LabelEncoder\n",
    "from sklearn.metrics import mean_squared_error\n",
    "import xgboost as xgb\n",
    "import os\n",
    "\n",
    "# Define RRMSE and ARRSME scoring functions\n",
    "def rrmse(y_true, y_pred):\n",
    "    rmse = np.sqrt(mean_squared_error(y_true, y_pred))\n",
    "    mean_y = np.mean(y_true)\n",
    "    return rmse / mean_y\n",
    "\n",
    "def arrmse(y_true, y_pred):\n",
    "    n_targets = y_true.shape[1]\n",
    "    rrmse_scores = []\n",
    "    for i in range(n_targets):\n",
    "        rrmse_scores.append(rrmse(y_true[:, i], y_pred[:, i]))\n",
    "    return np.mean(rrmse_scores)\n",
    "\n",
    "# Enable GPU for XGBoost training if available\n",
    "os.environ['CUDA_VISIBLE_DEVICES'] = '0'  # Ensure only GPU 0 is used (or adjust if multiple GPUs)\n",
    "\n",
    "def train_xgb_on_gpu(x_train, y_train, x_test, y_test, target_cols):\n",
    "    dtrain = xgb.DMatrix(x_train, label=y_train)\n",
    "    dtest = xgb.DMatrix(x_test, label=y_test)\n",
    "    params = {\n",
    "        'tree_method': 'gpu_hist',\n",
    "        'predictor': 'gpu_predictor',\n",
    "        'eval_metric': 'rmse'\n",
    "    }\n",
    "    num_round = 100\n",
    "    # Train one model per target column and predict\n",
    "    y_pred = np.zeros(y_test.shape)\n",
    "    for i, target in enumerate(target_cols):\n",
    "        bst = xgb.train(params, xgb.DMatrix(x_train, label=y_train[:, i]), num_round)\n",
    "        y_pred[:, i] = bst.predict(xgb.DMatrix(x_test))\n",
    "    return y_pred\n",
    "\n",
    "# Example usage after splits are done:\n",
    "# y_pred = train_xgb_on_gpu(x_train.values, y_train.values, x_test.values, y_test.values, list(y_train.columns))\n",
    "# score = arrmse(y_test.values, y_pred)\n",
    "# print('ARRMSE:', score)\n"
   ],
   "execution_count": null,
   "metadata": {},
   "outputs": []
  }
 ],
 "metadata": {
  "kernelspec": {
   "display_name": "Python 3",
   "language": "python",
   "name": "python3"
  },
  "language_info": {
   "name": "python",
   "version": "3.8",
   "mimetype": "text/x-python",
   "codemirror_mode": {
    "name": "ipython",
    "version": 3
   },
   "pygments_lexer": "ipython3",
   "nbconvert_exporter": "python",
   "file_extension": ".py"
  }
 },
 "nbformat": 4,
 "nbformat_minor": 2
}